{
 "cells": [
  {
   "cell_type": "code",
   "execution_count": 1,
   "metadata": {},
   "outputs": [],
   "source": [
    "# import all modules needed\n",
    "import models.eda as eda\n",
    "\n",
    "import pandas as pd\n",
    "import numpy as np\n",
    "from IPython.display import display\n",
    "\n",
    "import seaborn as sns\n",
    "import matplotlib.pyplot as plt\n",
    "\n",
    "from sklearn.preprocessing import StandardScaler, MinMaxScaler, RobustScaler, Normalizer\n",
    "from sklearn.linear_model import LogisticRegression\n",
    "from sklearn.model_selection import train_test_split, GridSearchCV, RandomizedSearchCV\n",
    "from sklearn.ensemble import RandomForestClassifier\n",
    "from sklearn.metrics import accuracy_score, precision_score, recall_score, f1_score, roc_auc_score, confusion_matrix\n",
    "from sklearn.utils import resample\n",
    "\n",
    "import xgboost as xgb\n",
    "\n",
    "from skopt import gp_minimize\n",
    "from skopt.space import Real, Integer\n",
    "from skopt.utils import use_named_args"
   ]
  },
  {
   "cell_type": "code",
   "execution_count": 2,
   "metadata": {},
   "outputs": [
    {
     "name": "stderr",
     "output_type": "stream",
     "text": [
      "/var/folders/zj/y95dm4bn0jz_s678nqhm92b80000gn/T/ipykernel_4747/1316648785.py:3: DtypeWarning: Columns (4) have mixed types.Specify dtype option on import or set low_memory=False.\n",
      "  invoice = eda.load_data(\"data/train/invoice_train.csv\")\n"
     ]
    }
   ],
   "source": [
    "# load train set\n",
    "client = eda.load_data(\"data/train/client_train.csv\")\n",
    "invoice = eda.load_data(\"data/train/invoice_train.csv\")\n",
    "train = eda.feature_change(client, invoice)\n"
   ]
  },
  {
   "cell_type": "code",
   "execution_count": 3,
   "metadata": {},
   "outputs": [
    {
     "data": {
      "text/html": [
       "<div>\n",
       "<style scoped>\n",
       "    .dataframe tbody tr th:only-of-type {\n",
       "        vertical-align: middle;\n",
       "    }\n",
       "\n",
       "    .dataframe tbody tr th {\n",
       "        vertical-align: top;\n",
       "    }\n",
       "\n",
       "    .dataframe thead th {\n",
       "        text-align: right;\n",
       "    }\n",
       "</style>\n",
       "<table border=\"1\" class=\"dataframe\">\n",
       "  <thead>\n",
       "    <tr style=\"text-align: right;\">\n",
       "      <th></th>\n",
       "      <th>district</th>\n",
       "      <th>client_id</th>\n",
       "      <th>client_catg</th>\n",
       "      <th>region</th>\n",
       "      <th>target</th>\n",
       "      <th>region_group</th>\n",
       "      <th>coop_time</th>\n",
       "      <th>tarif_type</th>\n",
       "      <th>counter_number</th>\n",
       "      <th>counter_statue</th>\n",
       "      <th>counter_code</th>\n",
       "      <th>reading_remarque</th>\n",
       "      <th>counter_coefficient</th>\n",
       "      <th>months_number</th>\n",
       "      <th>counter_type</th>\n",
       "      <th>invoice_month</th>\n",
       "      <th>invoice_year</th>\n",
       "      <th>is_weekday</th>\n",
       "      <th>total_consumption</th>\n",
       "    </tr>\n",
       "  </thead>\n",
       "  <tbody>\n",
       "    <tr>\n",
       "      <th>0</th>\n",
       "      <td>60</td>\n",
       "      <td>0</td>\n",
       "      <td>11</td>\n",
       "      <td>101</td>\n",
       "      <td>0.0</td>\n",
       "      <td>200</td>\n",
       "      <td>288</td>\n",
       "      <td>11</td>\n",
       "      <td>1335667</td>\n",
       "      <td>0</td>\n",
       "      <td>203</td>\n",
       "      <td>8</td>\n",
       "      <td>1</td>\n",
       "      <td>4</td>\n",
       "      <td>1</td>\n",
       "      <td>3</td>\n",
       "      <td>2014</td>\n",
       "      <td>0.0</td>\n",
       "      <td>82</td>\n",
       "    </tr>\n",
       "    <tr>\n",
       "      <th>1</th>\n",
       "      <td>60</td>\n",
       "      <td>0</td>\n",
       "      <td>11</td>\n",
       "      <td>101</td>\n",
       "      <td>0.0</td>\n",
       "      <td>200</td>\n",
       "      <td>288</td>\n",
       "      <td>11</td>\n",
       "      <td>1335667</td>\n",
       "      <td>0</td>\n",
       "      <td>203</td>\n",
       "      <td>6</td>\n",
       "      <td>1</td>\n",
       "      <td>4</td>\n",
       "      <td>1</td>\n",
       "      <td>3</td>\n",
       "      <td>2013</td>\n",
       "      <td>0.0</td>\n",
       "      <td>1384</td>\n",
       "    </tr>\n",
       "    <tr>\n",
       "      <th>2</th>\n",
       "      <td>60</td>\n",
       "      <td>0</td>\n",
       "      <td>11</td>\n",
       "      <td>101</td>\n",
       "      <td>0.0</td>\n",
       "      <td>200</td>\n",
       "      <td>288</td>\n",
       "      <td>11</td>\n",
       "      <td>1335667</td>\n",
       "      <td>0</td>\n",
       "      <td>203</td>\n",
       "      <td>8</td>\n",
       "      <td>1</td>\n",
       "      <td>4</td>\n",
       "      <td>1</td>\n",
       "      <td>3</td>\n",
       "      <td>2015</td>\n",
       "      <td>0.0</td>\n",
       "      <td>123</td>\n",
       "    </tr>\n",
       "    <tr>\n",
       "      <th>3</th>\n",
       "      <td>60</td>\n",
       "      <td>0</td>\n",
       "      <td>11</td>\n",
       "      <td>101</td>\n",
       "      <td>0.0</td>\n",
       "      <td>200</td>\n",
       "      <td>288</td>\n",
       "      <td>11</td>\n",
       "      <td>1335667</td>\n",
       "      <td>0</td>\n",
       "      <td>207</td>\n",
       "      <td>8</td>\n",
       "      <td>1</td>\n",
       "      <td>4</td>\n",
       "      <td>1</td>\n",
       "      <td>7</td>\n",
       "      <td>2015</td>\n",
       "      <td>0.0</td>\n",
       "      <td>102</td>\n",
       "    </tr>\n",
       "    <tr>\n",
       "      <th>4</th>\n",
       "      <td>60</td>\n",
       "      <td>0</td>\n",
       "      <td>11</td>\n",
       "      <td>101</td>\n",
       "      <td>0.0</td>\n",
       "      <td>200</td>\n",
       "      <td>288</td>\n",
       "      <td>11</td>\n",
       "      <td>1335667</td>\n",
       "      <td>0</td>\n",
       "      <td>207</td>\n",
       "      <td>9</td>\n",
       "      <td>1</td>\n",
       "      <td>12</td>\n",
       "      <td>1</td>\n",
       "      <td>11</td>\n",
       "      <td>2016</td>\n",
       "      <td>0.0</td>\n",
       "      <td>572</td>\n",
       "    </tr>\n",
       "  </tbody>\n",
       "</table>\n",
       "</div>"
      ],
      "text/plain": [
       "  district  client_id client_catg region  target  region_group  coop_time  \\\n",
       "0       60          0          11    101     0.0           200        288   \n",
       "1       60          0          11    101     0.0           200        288   \n",
       "2       60          0          11    101     0.0           200        288   \n",
       "3       60          0          11    101     0.0           200        288   \n",
       "4       60          0          11    101     0.0           200        288   \n",
       "\n",
       "   tarif_type  counter_number  counter_statue  counter_code  reading_remarque  \\\n",
       "0          11         1335667               0           203                 8   \n",
       "1          11         1335667               0           203                 6   \n",
       "2          11         1335667               0           203                 8   \n",
       "3          11         1335667               0           207                 8   \n",
       "4          11         1335667               0           207                 9   \n",
       "\n",
       "   counter_coefficient  months_number  counter_type  invoice_month  \\\n",
       "0                    1              4             1              3   \n",
       "1                    1              4             1              3   \n",
       "2                    1              4             1              3   \n",
       "3                    1              4             1              7   \n",
       "4                    1             12             1             11   \n",
       "\n",
       "   invoice_year  is_weekday  total_consumption  \n",
       "0          2014         0.0                 82  \n",
       "1          2013         0.0               1384  \n",
       "2          2015         0.0                123  \n",
       "3          2015         0.0                102  \n",
       "4          2016         0.0                572  "
      ]
     },
     "execution_count": 3,
     "metadata": {},
     "output_type": "execute_result"
    }
   ],
   "source": [
    "train.head()"
   ]
  },
  {
   "attachments": {},
   "cell_type": "markdown",
   "metadata": {},
   "source": [
    "## Baseline model\n",
    "- our very simple baseline model assumes every client from district 51 is fraudulent. "
   ]
  },
  {
   "cell_type": "code",
   "execution_count": 4,
   "metadata": {},
   "outputs": [
    {
     "data": {
      "text/html": [
       "<div>\n",
       "<style scoped>\n",
       "    .dataframe tbody tr th:only-of-type {\n",
       "        vertical-align: middle;\n",
       "    }\n",
       "\n",
       "    .dataframe tbody tr th {\n",
       "        vertical-align: top;\n",
       "    }\n",
       "\n",
       "    .dataframe thead th {\n",
       "        text-align: right;\n",
       "    }\n",
       "</style>\n",
       "<table border=\"1\" class=\"dataframe\">\n",
       "  <thead>\n",
       "    <tr style=\"text-align: right;\">\n",
       "      <th>client_catg</th>\n",
       "      <th>11</th>\n",
       "      <th>12</th>\n",
       "      <th>51</th>\n",
       "    </tr>\n",
       "    <tr>\n",
       "      <th>target</th>\n",
       "      <th></th>\n",
       "      <th></th>\n",
       "      <th></th>\n",
       "    </tr>\n",
       "  </thead>\n",
       "  <tbody>\n",
       "    <tr>\n",
       "      <th>0.0</th>\n",
       "      <td>92.391486</td>\n",
       "      <td>94.413284</td>\n",
       "      <td>79.044952</td>\n",
       "    </tr>\n",
       "    <tr>\n",
       "      <th>1.0</th>\n",
       "      <td>7.608514</td>\n",
       "      <td>5.586716</td>\n",
       "      <td>20.955048</td>\n",
       "    </tr>\n",
       "  </tbody>\n",
       "</table>\n",
       "</div>"
      ],
      "text/plain": [
       "client_catg         11         12         51\n",
       "target                                      \n",
       "0.0          92.391486  94.413284  79.044952\n",
       "1.0           7.608514   5.586716  20.955048"
      ]
     },
     "execution_count": 4,
     "metadata": {},
     "output_type": "execute_result"
    }
   ],
   "source": [
    "def baseline_model(X):\n",
    "    y_pred = [0 if cat != 51 else 1 for cat in X.client_catg]\n",
    "    return y_pred\n",
    "\n",
    "# in district 51 the most fraudulents appear:\n",
    "pd.crosstab(train['target'], train['client_catg'], normalize='columns')*100"
   ]
  },
  {
   "cell_type": "code",
   "execution_count": 5,
   "metadata": {},
   "outputs": [
    {
     "name": "stdout",
     "output_type": "stream",
     "text": [
      "F1-score: 0.21\n",
      "ROC AUC: 0.52\n"
     ]
    }
   ],
   "source": [
    "# Select the features to use for modeling\n",
    "X_train = train.drop(\"target\", axis=1)\n",
    "y_train = train.target\n",
    "X_train, X_test, y_train, y_test = train_test_split(X_train, y_train, test_size=0.3, random_state=42)\n",
    "\n",
    "y_pred = baseline_model(X_test)\n",
    "\n",
    "print('F1-score:', precision_score(y_test, y_pred).round(2))\n",
    "print('ROC AUC:', roc_auc_score(y_test, y_pred).round(2))"
   ]
  },
  {
   "attachments": {},
   "cell_type": "markdown",
   "metadata": {},
   "source": [
    "## Customized sampling and train test spilt"
   ]
  },
  {
   "cell_type": "code",
   "execution_count": 14,
   "metadata": {},
   "outputs": [],
   "source": [
    "df_train, df_test = eda.sampled_train_test_split(train)"
   ]
  },
  {
   "cell_type": "code",
   "execution_count": 46,
   "metadata": {},
   "outputs": [
    {
     "data": {
      "text/plain": [
       "1384       1.0\n",
       "1385       1.0\n",
       "1386       1.0\n",
       "1387       1.0\n",
       "1388       1.0\n",
       "          ... \n",
       "4476230    1.0\n",
       "4476231    1.0\n",
       "4476232    1.0\n",
       "4476233    1.0\n",
       "4476234    1.0\n",
       "Name: target, Length: 418059, dtype: float64"
      ]
     },
     "execution_count": 46,
     "metadata": {},
     "output_type": "execute_result"
    }
   ],
   "source": [
    "X_train = df_train.drop(\"target\", axis=1)\n",
    "X_test = df_test.drop(\"target\", axis=1)\n",
    "y_train = df_train.target\n",
    "y_test = df_test.target\n"
   ]
  },
  {
   "attachments": {},
   "cell_type": "markdown",
   "metadata": {},
   "source": [
    "## Feature scaling"
   ]
  },
  {
   "cell_type": "code",
   "execution_count": 15,
   "metadata": {},
   "outputs": [],
   "source": [
    "X_train = eda.get_mean_consumption(X_train)\n",
    "X_train = eda.get_historical_mean(X_train)\n",
    "X_test = eda.get_mean_consumption(X_test)\n",
    "X_test = eda.get_historical_mean(X_test)"
   ]
  },
  {
   "cell_type": "code",
   "execution_count": null,
   "metadata": {},
   "outputs": [],
   "source": []
  },
  {
   "attachments": {},
   "cell_type": "markdown",
   "metadata": {},
   "source": [
    "## Scaling"
   ]
  },
  {
   "cell_type": "code",
   "execution_count": 16,
   "metadata": {},
   "outputs": [],
   "source": [
    "# scaling of the data\n",
    "scaler_down = StandardScaler()\n",
    "X_train_preprocessed = scaler_down.fit_transform(X_train)\n",
    "X_test_preprocessed = scaler_down.transform(X_test)"
   ]
  },
  {
   "attachments": {},
   "cell_type": "markdown",
   "metadata": {},
   "source": [
    "## XGBoost with GridSearch (on customized downsampled dataset)"
   ]
  },
  {
   "cell_type": "code",
   "execution_count": 9,
   "metadata": {},
   "outputs": [
    {
     "name": "stdout",
     "output_type": "stream",
     "text": [
      "Fitting 5 folds for each of 1 candidates, totalling 5 fits\n",
      "Accuracy: 0.53\n",
      "Precision: 0.58\n",
      "Recall: 0.70\n",
      "F1 Score: 0.63\n",
      "ROC AUC Score: 0.49\n"
     ]
    }
   ],
   "source": [
    "# Define XGBoost model with enable_categorical=True and tree_method='hist'\n",
    "xgb_model = xgb.XGBClassifier(objective='binary:logistic', seed=42, enable_categorical=True, tree_method='hist')\n",
    "\n",
    "# Define parameter grid for grid search\n",
    "param_grid = {\n",
    "    'objective': ['binary:logistic'],\n",
    "    'seed': [42],\n",
    "    'enable_categorical': [True],\n",
    "    'tree_method': ['hist'],\n",
    "    'n_estimators': [400], #[200, 400],\n",
    "    'max_depth': [30],  #[30, 40, 50],\n",
    "    'learning_rate': [0.1] # [0.1, 0.01, 1]\n",
    "}\n",
    "\n",
    "# Create GridSearchCV object\n",
    "clf = GridSearchCV(estimator=xgb_model, param_grid=param_grid, cv=5, n_jobs=-1, verbose=1)\n",
    "\n",
    "# Fit GridSearchCV object to training data\n",
    "clf.fit(X_train_preprocessed, y_train)\n",
    "\n",
    "# Predict on test data using best model\n",
    "y_pred = clf.predict(X_test_preprocessed)\n",
    "\n",
    "eda.print_metrics(y_test, y_pred)"
   ]
  },
  {
   "cell_type": "code",
   "execution_count": 72,
   "metadata": {},
   "outputs": [
    {
     "data": {
      "text/plain": [
       "{'enable_categorical': True,\n",
       " 'learning_rate': 0.01,\n",
       " 'max_depth': 30,\n",
       " 'n_estimators': 400,\n",
       " 'objective': 'binary:logistic',\n",
       " 'seed': 42,\n",
       " 'tree_method': 'hist'}"
      ]
     },
     "execution_count": 72,
     "metadata": {},
     "output_type": "execute_result"
    }
   ],
   "source": [
    "# eda.print_metrics(y_test, y_pred)\n",
    "clf.best_params_"
   ]
  },
  {
   "cell_type": "code",
   "execution_count": 28,
   "metadata": {},
   "outputs": [],
   "source": [
    "# results = pd.concat([X_test, pd.DataFrame(y_pred)], axis=0).groupby(\"client_id\")\n",
    "X_test[\"target_pred\"] = pd.Series(y_pred)\n",
    "X_test[\"target\"] = y_test.values.astype(int)\n"
   ]
  },
  {
   "cell_type": "code",
   "execution_count": 40,
   "metadata": {},
   "outputs": [
    {
     "data": {
      "image/png": "[encoded data removed]",
      "text/plain": [
       "<Figure size 640x480 with 2 Axes>"
      ]
     },
     "metadata": {},
     "output_type": "display_data"
    }
   ],
   "source": [
    "y_pred_client = X_test.groupby(\"client_id\")[\"target_pred\"].mean().to_list()\n",
    "y_pred_client = [1 if num > 0.5 else 0 for num in y_pred_client]\n",
    "y_true_client = X_test.groupby(\"client_id\")[\"target\"].mean().to_list()\n",
    "y_true_client = [1 if num > 0.5 else 0 for num in y_true_client]\n",
    "\n",
    "\n",
    "# eda.print_metrics(y_test, y_pred)\n",
    "cm = confusion_matrix(y_true_client, y_pred_client)\n",
    "sns.heatmap(cm, annot=True, cmap='Blues', fmt='d')\n",
    "plt.xlabel('Predicted label')\n",
    "plt.ylabel('True label')\n",
    "plt.show()"
   ]
  },
  {
   "cell_type": "code",
   "execution_count": 42,
   "metadata": {},
   "outputs": [
    {
     "data": {
      "text/plain": [
       "1384       1.0\n",
       "1385       1.0\n",
       "1386       1.0\n",
       "1387       1.0\n",
       "1388       1.0\n",
       "          ... \n",
       "4476230    1.0\n",
       "4476231    1.0\n",
       "4476232    1.0\n",
       "4476233    1.0\n",
       "4476234    1.0\n",
       "Name: target, Length: 418059, dtype: float64"
      ]
     },
     "execution_count": 42,
     "metadata": {},
     "output_type": "execute_result"
    }
   ],
   "source": [
    "X_train.head(50)\n",
    "\n"
   ]
  },
  {
   "cell_type": "code",
   "execution_count": 20,
   "metadata": {},
   "outputs": [],
   "source": [
    "import pickle\n",
    "\n",
    "# Save the model to a file\n",
    "with open('model_xgboost_downsample.pkl', 'wb') as f:\n",
    "    pickle.dump(clf, f)"
   ]
  },
  {
   "attachments": {},
   "cell_type": "markdown",
   "metadata": {},
   "source": [
    "# Logistic Regression"
   ]
  },
  {
   "cell_type": "code",
   "execution_count": 60,
   "metadata": {},
   "outputs": [
    {
     "name": "stdout",
     "output_type": "stream",
     "text": [
      "Accuracy: 0.62\n",
      "Precision: 0.63\n",
      "Recall: 0.88\n",
      "F1 Score: 0.73\n",
      "ROC AUC Score: 0.56\n"
     ]
    }
   ],
   "source": [
    "# Fit logistic regression model on the training data\n",
    "lr = LogisticRegression(random_state=42)\n",
    "lr.fit(X_train_preprocessed, y_train)\n",
    "\n",
    "# Predict on test data using logistic regression model\n",
    "y_pred_lr = lr.predict(X_test_preprocessed)\n",
    "\n",
    "eda.print_metrics(y_test, y_pred_lr)\n"
   ]
  },
  {
   "cell_type": "code",
   "execution_count": null,
   "metadata": {},
   "outputs": [],
   "source": []
  }
 ],
 "metadata": {
  "kernelspec": {
   "display_name": ".venv",
   "language": "python",
   "name": "python3"
  },
  "language_info": {
   "codemirror_mode": {
    "name": "ipython",
    "version": 3
   },
   "file_extension": ".py",
   "mimetype": "text/x-python",
   "name": "python",
   "nbconvert_exporter": "python",
   "pygments_lexer": "ipython3",
   "version": "3.9.8"
  },
  "orig_nbformat": 4
 },
 "nbformat": 4,
 "nbformat_minor": 2
}
